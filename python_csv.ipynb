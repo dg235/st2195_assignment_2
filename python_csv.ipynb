{
 "cells": [
  {
   "cell_type": "code",
   "execution_count": null,
   "metadata": {},
   "outputs": [],
   "source": [
    "import requests\n",
    "from bs4 import BeautifulSoup\n",
    "import pandas as pd\n",
    "\n",
    "# Define the URL of the Wikipedia page\n",
    "url = \"https://en.wikipedia.org/wiki/Comma-separated_values\"\n",
    "\n",
    "# Send a GET request to the webpage\n",
    "response = requests.get(url)\n",
    "\n",
    "# Parse the HTML content of the webpage\n",
    "soup = BeautifulSoup(response.content, 'html.parser')\n",
    "\n",
    "# Find all tables on the webpage\n",
    "tables = soup.find_all('table', {'class': 'wikitable'})\n",
    "\n",
    "# Assuming you need to identify the correct table, you can loop through each table and print part of its content\n",
    "# This is a manual step: inspect the output to identify the table you're interested in\n",
    "# Let's assume the table you want is the first 'wikitable'\n",
    "csv_table = tables[0]  # Replace 0 with the correct index\n",
    "\n",
    "# Convert the table to a DataFrame\n",
    "df = pd.read_html(str(csv_table))[0]\n",
    "\n",
    "# Save the DataFrame to a CSV file\n",
    "df.to_csv('/Users/dorotheagrkovic/Downloads/cars_data.csv', index=False)\n"
   ]
  }
 ],
 "metadata": {
  "language_info": {
   "name": "python"
  },
  "orig_nbformat": 4
 },
 "nbformat": 4,
 "nbformat_minor": 2
}
